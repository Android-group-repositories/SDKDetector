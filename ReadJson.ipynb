{
 "cells": [
  {
   "cell_type": "code",
   "execution_count": 36,
   "metadata": {},
   "outputs": [],
   "source": [
    "import json\n",
    "\n",
    "\n",
    "with open('Sdk_Featuries.json', 'r') as file:\n",
    "    json_data = file.read()\n",
    "\n",
    "    data_dict = json.loads(json_data)\n",
    "\n",
    "\n",
    "a_toDetect = data_dict[\"toDetect\"]\n",
    "d_rawSDks = data_dict[\"sdks\"]\n"
   ]
  },
  {
   "cell_type": "code",
   "execution_count": 37,
   "metadata": {},
   "outputs": [
    {
     "name": "stdout",
     "output_type": "stream",
     "text": [
      "['umeng', 'sharesdk', 'yandex', 'jiubang', 'ad4screen', 'growingIO', 'Sensors', 'baidu', 'talkingdata', 'zhuge', 'amplitude', 'kissmetrics', 'mixpanel', 'Heap', 'GA', 'Firebase', 'twitter ', 'bytedance', 'ironsource ', 'onesignal', 'vungle', 'squareup', 'kakao', 'applovin', 'amazon', 'startapp', 'appsflyer', 'tapjoy ', 'dropbox', 'unity3d']\n",
      "30 {'umeng': ['com.umeng.socialize', 'com.umeng.analytics'], 'sharesdk': ['cn.sharesdk'], 'yandex': ['com.yandex.metrica'], 'jiubang': ['com.jiubang'], 'ad4screen': ['com.ad4screen'], 'growingIO': ['com.growingio.android.sdk'], 'Sensors': ['com.sensorsdata.analytics'], 'baidu': ['com.baidu.mobstat'], 'talkingdata': ['com.talkingdata'], 'zhuge': ['com.zhuge.analysis'], 'amplitude': ['com.amplitude.api'], 'kissmetrics': ['com.kissmetrics.sdk'], 'mixpanel': ['com.mixpanel.android'], 'Heap': [], 'GA': ['com.google.android.gms.analytics'], 'Firebase': ['com.google.firebase'], 'twitter ': ['com.twitter'], 'bytedance': ['com.bytedance'], 'ironsource ': ['com.ironsource'], 'onesignal': ['com.onesignal'], 'vungle': ['com.vungle'], 'squareup': ['com.squareup'], 'kakao': ['com.kakao'], 'applovin': [], 'amazon': ['com.applovin'], 'startapp': ['com.startapp'], 'appsflyer': ['com.appsflyer'], 'tapjoy ': ['com.tapjoy'], 'dropbox': ['com.dropbox'], 'unity3d': ['com.unity3d.ads']}\n"
     ]
    }
   ],
   "source": [
    "print(a_toDetect)\n",
    "print(len(d_rawSDks),d_rawSDks)"
   ]
  },
  {
   "cell_type": "code",
   "execution_count": 38,
   "metadata": {},
   "outputs": [
    {
     "name": "stdout",
     "output_type": "stream",
     "text": [
      "{'umeng': ['com.umeng.socialize', 'com.umeng.analytics'], 'sharesdk': ['cn.sharesdk'], 'yandex': ['com.yandex.metrica'], 'jiubang': ['com.jiubang'], 'ad4screen': ['com.ad4screen'], 'growingIO': ['com.growingio.android.sdk'], 'Sensors': ['com.sensorsdata.analytics'], 'baidu': ['com.baidu.mobstat'], 'talkingdata': ['com.talkingdata'], 'zhuge': ['com.zhuge.analysis'], 'amplitude': ['com.amplitude.api'], 'kissmetrics': ['com.kissmetrics.sdk'], 'mixpanel': ['com.mixpanel.android'], 'Heap': [], 'GA': ['com.google.android.gms.analytics'], 'Firebase': ['com.google.firebase'], 'twitter ': ['com.twitter'], 'bytedance': ['com.bytedance'], 'ironsource ': ['com.ironsource'], 'onesignal': ['com.onesignal'], 'vungle': ['com.vungle'], 'squareup': ['com.squareup'], 'kakao': ['com.kakao'], 'applovin': [], 'amazon': ['com.applovin'], 'startapp': ['com.startapp'], 'appsflyer': ['com.appsflyer'], 'tapjoy ': ['com.tapjoy'], 'dropbox': ['com.dropbox'], 'unity3d': ['com.unity3d.ads']}\n",
      "['umeng', 'sharesdk', 'yandex', 'jiubang', 'ad4screen', 'growingIO', 'Sensors', 'baidu', 'talkingdata', 'zhuge', 'amplitude', 'kissmetrics', 'mixpanel', 'Heap', 'GA', 'Firebase', 'twitter ', 'bytedance', 'ironsource ', 'onesignal', 'vungle', 'squareup', 'kakao', 'applovin', 'amazon', 'startapp', 'appsflyer', 'tapjoy ', 'dropbox', 'unity3d']\n"
     ]
    }
   ],
   "source": [
    "d_SDksFeaturies={}\n",
    "name_list =[ ]\n",
    "for key, value in d_rawSDks.items():\n",
    "    # 使用键值对构建新的字典\n",
    "    # new_dict[key] = value\n",
    "    name_list.append(key)\n",
    "    if(key in a_toDetect):\n",
    "        d_SDksFeaturies.update({key:value})\n",
    "    else:\n",
    "        continue\n",
    "print(d_SDksFeaturies)\n",
    "print(name_list)"
   ]
  },
  {
   "cell_type": "code",
   "execution_count": null,
   "metadata": {},
   "outputs": [],
   "source": []
  },
  {
   "cell_type": "code",
   "execution_count": 39,
   "metadata": {},
   "outputs": [
    {
     "name": "stdout",
     "output_type": "stream",
     "text": [
      "com.conspiracytheories.conspiracypuzzle\n"
     ]
    },
    {
     "ename": "AttributeError",
     "evalue": "'dict' object has no attribute 'append'",
     "output_type": "error",
     "traceback": [
      "\u001b[1;31m---------------------------------------------------------------------------\u001b[0m",
      "\u001b[1;31mAttributeError\u001b[0m                            Traceback (most recent call last)",
      "Cell \u001b[1;32mIn[39], line 89\u001b[0m\n\u001b[0;32m     86\u001b[0m             \u001b[38;5;28;01mif\u001b[39;00m( b_isIntegrated(smaliFile,SDKname,d_SDksFeaturies[SDKname])):\n\u001b[0;32m     87\u001b[0m                 \u001b[38;5;66;03m# app 集成 某SDK\u001b[39;00m\n\u001b[0;32m     88\u001b[0m                 d_isAPPIntegrated[SDKname]\u001b[38;5;241m=\u001b[39m\u001b[38;5;241m1\u001b[39m\n\u001b[1;32m---> 89\u001b[0m                 \u001b[43md_result_sdk2app\u001b[49m\u001b[38;5;241;43m.\u001b[39;49m\u001b[43mappend\u001b[49m(appName)\n\u001b[0;32m     91\u001b[0m     \u001b[38;5;28mprint\u001b[39m(d_isAPPIntegrated)\n\u001b[0;32m     93\u001b[0m \u001b[38;5;66;03m# 由于pandas特性 必须手动加入一个表头。。。。\u001b[39;00m\n\u001b[0;32m     94\u001b[0m \n\u001b[0;32m     95\u001b[0m \u001b[38;5;66;03m# d_isAPPIntegrated.update({\"appName\" :appName})\u001b[39;00m\n",
      "\u001b[1;31mAttributeError\u001b[0m: 'dict' object has no attribute 'append'"
     ]
    }
   ],
   "source": [
    "import os\n",
    "import pandas as pd\n",
    "import itertools\n",
    "DEBUG = 0\n",
    "\n",
    "def b_isIntegrated(smaliFile,SDKname,a_SDksFeaturies):\n",
    "    \n",
    "    \n",
    "    for feature in a_SDksFeaturies:\n",
    "        tmp = feature.split('.')\n",
    "        # print(tmp)\n",
    "        # print(os.path.join(smaliFile, * tmp))\n",
    "        if os.path.exists(os.path.join(smaliFile,* tmp)):\n",
    "            if(DEBUG):\n",
    "                print(' --' + feature)\n",
    "            # input()\n",
    "            return True\n",
    "    return False\n",
    "        \n",
    "\n",
    "\n",
    "def findSmaliFolder(Appdir):\n",
    "    folderList = []\n",
    "    for fileName in os.listdir(Appdir):\n",
    "        if fileName.find('smali') != -1 :\n",
    "            folderList.append(os.path.join(Appdir,fileName))\n",
    "    return folderList\n",
    "\n",
    "\n",
    "\n",
    "\n",
    "\n",
    "\n",
    "d_result_app2sdk = {\"app\":[]}\n",
    "d_isIntegrated={}\n",
    "d_result_sdk2app = {}\n",
    "\n",
    "# init\n",
    "for key, value in d_SDksFeaturies.items():\n",
    "    d_isIntegrated[key]=0\n",
    "    d_result_sdk2app[key]=[]\n",
    "# print(d_isIntegrated)\n",
    "# print(d_result_sdk2app)\n",
    "\n",
    "def json2excel(appsInfoList,outputFile):\n",
    "    \n",
    "    # set to list\n",
    "    # appsInfoList = {'apps':{1,2,3,4},\n",
    "    # 'apps2':{11,12,13,14}}\n",
    "    # to\n",
    "    # {'apps': [1, 2, 3, 4], 'apps2': [11, 12, 13, 14]}\n",
    "    for k,v in appsInfoList.items():\n",
    "        appsInfoList[k]=list(v)\n",
    "    print(appsInfoList)\n",
    "    \n",
    "    # padding\n",
    "    # {'apps': [1, 2, 3, 4], 'apps2': [11, 12, 13, None], 'app3': [123, 345, None, None]}补充到最大长度\n",
    "    # nested_dict = {'apps': [1, 2, 3, 4], 'apps2': [11, 12, 13],\"app3\":[123,345]}\n",
    "    nested_dict = appsInfoList\n",
    "    max_length = max(len(value) for value in nested_dict.values())\n",
    "    filled_lists = {key: list(itertools.islice(itertools.chain(value, itertools.repeat(None)), max_length))\n",
    "                    for key, value in nested_dict.items()}\n",
    "    # print(filled_lists)\n",
    "    \n",
    "    df = pd.DataFrame.from_dict(filled_lists)\n",
    "    print(df)\n",
    "    df.to_excel(outputFile, index=False)\n",
    "\n",
    "\n",
    "DECODEAPP_FOLDER = os.path.abspath(r\"D:\\狠狠科研\\hels安卓\\安卓app解包分析\\data\\appDecoded测试\")\n",
    "for appName in os.listdir(DECODEAPP_FOLDER):\n",
    "    d_isAPPIntegrated = d_isIntegrated\n",
    "    \n",
    "    Appdir =  os.path.join(DECODEAPP_FOLDER,appName)\n",
    "    # print(Appdir)\n",
    "    a_samliFiles = findSmaliFolder(Appdir)\n",
    "    # print(a_samliFiles)\n",
    "    print(appName)\n",
    "    \n",
    "        \n",
    "    for smaliFile in a_samliFiles:\n",
    "        if not os.path.exists(os.path.join(smaliFile,'com')):\n",
    "            continue\n",
    "        else :\n",
    "            for SDKname in a_toDetect:\n",
    "                if( b_isIntegrated(smaliFile,SDKname,d_SDksFeaturies[SDKname])):\n",
    "                    # app 集成 某SDK\n",
    "                    d_isAPPIntegrated[SDKname]=1\n",
    "                    d_result_sdk2app[SDKname].append(appName)\n",
    "                    \n",
    "        print(d_isAPPIntegrated)\n",
    "    \n",
    "    # 由于pandas特性 必须手动加入一个表头。。。。\n",
    "    \n",
    "    # d_isAPPIntegrated.update({\"appName\" :appName})\n",
    "    d_isAPPIntegrated = {\"appName\" :appName, **d_isAPPIntegrated}\n",
    "    d_result_app2sdk['app'].append(d_isAPPIntegrated)\n",
    "# ==================================================================\n",
    "print(d_result_sdk2app)\n",
    "json2excel(d_result_sdk2app,'./sdk2apk.xlsx')\n",
    "\n",
    "\n",
    "print(d_result_sdk2app)\n",
    "df = pd.DataFrame.from_dict(d_result_app2sdk['app'])\n",
    "df.to_excel('apk2sdk.xlsx', index=False)\n",
    "            "
   ]
  }
 ],
 "metadata": {
  "kernelspec": {
   "display_name": "Python 3",
   "language": "python",
   "name": "python3"
  },
  "language_info": {
   "codemirror_mode": {
    "name": "ipython",
    "version": 3
   },
   "file_extension": ".py",
   "mimetype": "text/x-python",
   "name": "python",
   "nbconvert_exporter": "python",
   "pygments_lexer": "ipython3",
   "version": "3.11.5"
  }
 },
 "nbformat": 4,
 "nbformat_minor": 2
}
